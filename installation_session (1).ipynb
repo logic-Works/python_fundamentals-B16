{
 "cells": [
  {
   "cell_type": "code",
   "execution_count": 1,
   "metadata": {},
   "outputs": [],
   "source": [
    "import pyfiglet"
   ]
  },
  {
   "cell_type": "code",
   "execution_count": 2,
   "metadata": {},
   "outputs": [
    {
     "name": "stdout",
     "output_type": "stream",
     "text": [
      "                                                               \n",
      "                                                               \n",
      "||   / |  / /                                                  \n",
      "||  /  | / /  ___     //  ___      ___      _   __      ___    \n",
      "|| / /||/ / //___) ) // //   ) ) //   ) ) // ) )  ) ) //___) ) \n",
      "||/ / |  / //       // //       //   / / // / /  / / //        \n",
      "|  /  | / ((____   // ((____   ((___/ / // / /  / / ((____     \n",
      "\n"
     ]
    }
   ],
   "source": [
    "greet = pyfiglet.figlet_format(\"Welcome\",font = '5lineoblique')\n",
    "print(greet)"
   ]
  },
  {
   "cell_type": "code",
   "execution_count": null,
   "metadata": {},
   "outputs": [],
   "source": [
    "# installation and stup of anaconda:----"
   ]
  },
  {
   "cell_type": "code",
   "execution_count": null,
   "metadata": {},
   "outputs": [],
   "source": [
    "# how to send practice files\n",
    "\n",
    "# logicworks01@gmail.com\n",
    "\n",
    "\n",
    "sub:- python_fundamentals_B16\n",
    "    \n",
    "Hi siva,\n",
    "\n",
    "please find my day1 practice file.\n",
    "\n",
    "https://github.com/logic-Works/Python_fundamentals_B16/blob/main/installation_session.ipynb\n",
    "    \n"
   ]
  },
  {
   "cell_type": "code",
   "execution_count": null,
   "metadata": {},
   "outputs": [],
   "source": [
    "7997068801\n",
    "\n",
    "name: siva\n",
    "email: logicworks01@gmail.com"
   ]
  },
  {
   "cell_type": "code",
   "execution_count": null,
   "metadata": {},
   "outputs": [],
   "source": [
    "# jupyter \n",
    "\n",
    "# spyder"
   ]
  },
  {
   "cell_type": "code",
   "execution_count": null,
   "metadata": {},
   "outputs": [],
   "source": []
  },
  {
   "cell_type": "code",
   "execution_count": null,
   "metadata": {},
   "outputs": [],
   "source": []
  },
  {
   "cell_type": "code",
   "execution_count": null,
   "metadata": {},
   "outputs": [],
   "source": []
  },
  {
   "cell_type": "code",
   "execution_count": null,
   "metadata": {},
   "outputs": [],
   "source": []
  }
 ],
 "metadata": {
  "kernelspec": {
   "display_name": "Python 3",
   "language": "python",
   "name": "python3"
  },
  "language_info": {
   "codemirror_mode": {
    "name": "ipython",
    "version": 3
   },
   "file_extension": ".py",
   "mimetype": "text/x-python",
   "name": "python",
   "nbconvert_exporter": "python",
   "pygments_lexer": "ipython3",
   "version": "3.7.4"
  }
 },
 "nbformat": 4,
 "nbformat_minor": 2
}
